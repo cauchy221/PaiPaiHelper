{
  "nbformat": 4,
  "nbformat_minor": 0,
  "metadata": {
    "colab": {
      "provenance": [],
      "collapsed_sections": [
        "b_91YD7pMpp2",
        "yAb9yOxcVjz5",
        "73s9THwXYKj0"
      ],
      "authorship_tag": "ABX9TyPzhNEsf//pt5u56eQOBUhk",
      "include_colab_link": true
    },
    "kernelspec": {
      "name": "python3",
      "display_name": "Python 3"
    },
    "language_info": {
      "name": "python"
    }
  },
  "cells": [
    {
      "cell_type": "markdown",
      "metadata": {
        "id": "view-in-github",
        "colab_type": "text"
      },
      "source": [
        "<a href=\"https://colab.research.google.com/github/cauchy221/PaiPaiHelper/blob/main/extraction.ipynb\" target=\"_parent\"><img src=\"https://colab.research.google.com/assets/colab-badge.svg\" alt=\"Open In Colab\"/></a>"
      ]
    },
    {
      "cell_type": "markdown",
      "source": [
        "# 无监督"
      ],
      "metadata": {
        "id": "2bf5SVU3MPCQ"
      }
    },
    {
      "cell_type": "markdown",
      "source": [
        "## 统计类"
      ],
      "metadata": {
        "id": "i9Oz82HiMUnc"
      }
    },
    {
      "cell_type": "markdown",
      "source": [
        "### 基于TF-IDF算法的关键词提取"
      ],
      "metadata": {
        "id": "jey0TR3KQRp9"
      }
    },
    {
      "cell_type": "code",
      "source": [
        "!pip install jieba"
      ],
      "metadata": {
        "colab": {
          "base_uri": "https://localhost:8080/"
        },
        "id": "D6HaZdxjQbmc",
        "outputId": "975c1eae-2749-4019-e9ed-940d18884fcd"
      },
      "execution_count": null,
      "outputs": [
        {
          "output_type": "stream",
          "name": "stdout",
          "text": [
            "Looking in indexes: https://pypi.org/simple, https://us-python.pkg.dev/colab-wheels/public/simple/\n",
            "Requirement already satisfied: jieba in /usr/local/lib/python3.7/dist-packages (0.42.1)\n"
          ]
        }
      ]
    },
    {
      "cell_type": "code",
      "source": [
        "import jieba.analyse\n",
        "\n",
        "# 聊天记录中的多轮对话用句号分隔\n",
        "text = \"根据团委要求，我们将在今天下午开展以冬奥会为主题的团日活动，看到的同学请回复。收到。收到。收到。收到。收到。收到。收到。收到。\\\n",
        "此外，我们将在下周进行考试，请各位同学做好准备。好的。收到，会复习的！看这个视频，贼搞笑。哈哈哈哈哈哈哈哈哈哈。确实哈哈哈哈哈哈哈。明天大家一起去吃海底捞吧，新学期聚餐。好呀好呀。好耶！好好好\"\n",
        "key_words = jieba.analyse.extract_tags(text, topK=10)\n",
        "print(\"关键词：\" + '，'.join(key_words))"
      ],
      "metadata": {
        "colab": {
          "base_uri": "https://localhost:8080/"
        },
        "id": "N02Yg-mGQfFq",
        "outputId": "ec2f876f-a655-484e-ed2d-ab9c5f64bdb3"
      },
      "execution_count": null,
      "outputs": [
        {
          "output_type": "stream",
          "name": "stdout",
          "text": [
            "关键词：收到，哈哈哈，哈哈哈哈，同学，冬奥会，新学期，团日，搞笑，聚餐，团委\n"
          ]
        }
      ]
    },
    {
      "cell_type": "markdown",
      "source": [
        "TF-IDF是基于词频和逆文档频率的算法，因此在上面的例子中，“收到”这个词语出现了很多次，排在结果的第一位，而这并不是我们需要的（我们想要隐藏聊天记录中的这些无关信息）\n",
        "\n",
        "因此，我们可以考虑将原文本按句子去重"
      ],
      "metadata": {
        "id": "ROeDCC1MTHDt"
      }
    },
    {
      "cell_type": "code",
      "source": [
        "sentences = text.split('。')\n",
        "new_sentences = list(set(sentences))\n",
        "new_sentences.sort(key=sentences.index)  # 保证顺序不变\n",
        "new_text = '。'.join(new_sentences)\n",
        "print(new_text)"
      ],
      "metadata": {
        "colab": {
          "base_uri": "https://localhost:8080/"
        },
        "id": "Bp61iFCOT-yW",
        "outputId": "fec815a9-605d-4aa6-ea1b-6f975392c33b"
      },
      "execution_count": null,
      "outputs": [
        {
          "output_type": "stream",
          "name": "stdout",
          "text": [
            "根据团委要求，我们将在今天下午开展以冬奥会为主题的团日活动，看到的同学请回复。收到。此外，我们将在下周进行考试，请各位同学做好准备。好的。收到，会复习的！看这个视频，贼搞笑。哈哈哈哈哈哈哈哈哈哈。确实哈哈哈哈哈哈哈。明天大家一起去吃海底捞吧，新学期聚餐。好呀好呀。好耶！好好好\n"
          ]
        }
      ]
    },
    {
      "cell_type": "code",
      "source": [
        "key_words = jieba.analyse.extract_tags(new_text, topK=10)\n",
        "print(\"关键词：\" + '，'.join(key_words))"
      ],
      "metadata": {
        "colab": {
          "base_uri": "https://localhost:8080/"
        },
        "id": "XPflUDOGVORl",
        "outputId": "86350401-5737-43d4-f682-d5f4a3d83e33"
      },
      "execution_count": null,
      "outputs": [
        {
          "output_type": "stream",
          "name": "stdout",
          "text": [
            "关键词：哈哈哈，哈哈哈哈，同学，收到，冬奥会，新学期，团日，搞笑，聚餐，团委\n"
          ]
        }
      ]
    },
    {
      "cell_type": "markdown",
      "source": [
        "此外，可以设置自定义逆向文件频率文本语料库，调整IDF的计算值，以保证更符合微信聊天记录的使用场景"
      ],
      "metadata": {
        "id": "tjecCGs4VsDq"
      }
    },
    {
      "cell_type": "markdown",
      "source": [
        "### 基于YAKE算法的中文关键词提取"
      ],
      "metadata": {
        "id": "HmYZU0gTIW7m"
      }
    },
    {
      "cell_type": "code",
      "source": [
        "!pip install iyake-cn\n",
        "!pip install jieba"
      ],
      "metadata": {
        "colab": {
          "base_uri": "https://localhost:8080/"
        },
        "id": "1i8g1MTCIa8_",
        "outputId": "081ae716-5994-41ad-d0a3-067b741b3ef6"
      },
      "execution_count": null,
      "outputs": [
        {
          "output_type": "stream",
          "name": "stdout",
          "text": [
            "Looking in indexes: https://pypi.org/simple, https://us-python.pkg.dev/colab-wheels/public/simple/\n",
            "Requirement already satisfied: iyake-cn in /usr/local/lib/python3.7/dist-packages (0.5.5)\n",
            "Looking in indexes: https://pypi.org/simple, https://us-python.pkg.dev/colab-wheels/public/simple/\n",
            "Requirement already satisfied: jieba in /usr/local/lib/python3.7/dist-packages (0.42.1)\n"
          ]
        }
      ]
    },
    {
      "cell_type": "code",
      "source": [
        "from iyake_cn import get_S_t, get_key_words, get_stopwords\n",
        "from iyake_cn import cn_stopwords\n",
        "\n",
        "text = \"根据团委要求，我们将在今天下午开展以冬奥会为主题的团日活动，看到的同学请回复。收到。收到。收到。收到。收到。收到。收到。收到。\\\n",
        "此外，我们将在下周进行考试，请各位同学做好准备。好的。收到，会复习的！看这个视频，贼搞笑。哈哈哈哈哈哈哈哈哈哈。确实哈哈哈哈哈哈哈。明天大家一起去吃海底捞吧，新学期聚餐。好呀好呀。好耶！好好好\"\n",
        "df = get_S_t(text, stop=cn_stopwords)\n",
        "words_noun = get_key_words(df, p='n')\n",
        "print(\"名词：\" + \",\".join(words_noun))\n",
        "words_verb = get_key_words(df, p='v')\n",
        "print(\"动词：\" + \",\".join(words_verb))"
      ],
      "metadata": {
        "colab": {
          "base_uri": "https://localhost:8080/"
        },
        "id": "CMpaWf_UIexw",
        "outputId": "6870dc1a-6510-4797-fa90-87b9f406557b"
      },
      "execution_count": null,
      "outputs": [
        {
          "output_type": "stream",
          "name": "stdout",
          "text": [
            "名词：团委,主题,团日,聚餐,新学期,视频,同学\n",
            "动词：要求,开展,看到,收到,回复,做好,准备,复习,搞笑\n"
          ]
        }
      ]
    },
    {
      "cell_type": "markdown",
      "source": [
        "可以考虑根据原文本顺序，将提取的名词关键词和动词关键词组合起来，形成句子/短语"
      ],
      "metadata": {
        "id": "oXVZ3fbYLAx0"
      }
    },
    {
      "cell_type": "code",
      "source": [
        "import jieba\n",
        "\n",
        "seg = jieba.cut(text, cut_all=False)\n",
        "seg_list = []\n",
        "for word in seg:\n",
        "  seg_list.append(word)\n",
        "print(seg_list)"
      ],
      "metadata": {
        "id": "U1dN8M5JLNMP",
        "colab": {
          "base_uri": "https://localhost:8080/"
        },
        "outputId": "e0203523-bbfd-4d61-a0fb-8df510d7c005"
      },
      "execution_count": null,
      "outputs": [
        {
          "output_type": "stream",
          "name": "stdout",
          "text": [
            "['根据', '团委', '要求', '，', '我们', '将', '在', '今天下午', '开展', '以', '冬奥会', '为', '主题', '的', '团日', '活动', '，', '看到', '的', '同学', '请', '回复', '。', '收到', '。', '收到', '。', '收到', '。', '收到', '。', '收到', '。', '收到', '。', '收到', '。', '收到', '。', '此外', '，', '我们', '将', '在', '下周', '进行', '考试', '，', '请', '各位', '同学', '做好', '准备', '。', '好', '的', '。', '收到', '，', '会', '复习', '的', '！', '看', '这个', '视频', '，', '贼', '搞笑', '。', '哈哈哈哈', '哈哈哈', '哈哈哈', '。', '确实', '哈哈哈哈', '哈哈哈', '。', '明天', '大家', '一起', '去', '吃', '海底', '捞', '吧', '，', '新学期', '聚餐', '。', '好', '呀', '好', '呀', '。', '好', '耶', '！', '好好', '好']\n"
          ]
        }
      ]
    },
    {
      "cell_type": "code",
      "source": [
        "ans = []\n",
        "keywords = words_noun+words_verb\n",
        "\n",
        "for word in seg_list:\n",
        "  if word in keywords:\n",
        "    ans.append(word)\n",
        "print(ans)"
      ],
      "metadata": {
        "colab": {
          "base_uri": "https://localhost:8080/"
        },
        "id": "Mn5RHkJGRYcO",
        "outputId": "617deb8e-b0fa-4369-8fd2-e3a88d7a9297"
      },
      "execution_count": null,
      "outputs": [
        {
          "output_type": "stream",
          "name": "stdout",
          "text": [
            "['团委', '要求', '开展', '主题', '团日', '看到', '同学', '回复', '收到', '收到', '收到', '收到', '收到', '收到', '收到', '收到', '同学', '做好', '准备', '收到', '复习', '视频', '搞笑', '新学期', '聚餐']\n"
          ]
        }
      ]
    },
    {
      "cell_type": "markdown",
      "source": [
        "进一步处理一下"
      ],
      "metadata": {
        "id": "gC0PYunVTSwN"
      }
    },
    {
      "cell_type": "code",
      "source": [
        "new_ans = list(set(ans))\n",
        "new_ans.sort(key=ans.index)\n",
        "print(new_ans)"
      ],
      "metadata": {
        "colab": {
          "base_uri": "https://localhost:8080/"
        },
        "id": "K2UEnkx2TVCX",
        "outputId": "51117519-8a88-48b3-d958-4bfebe40ca05"
      },
      "execution_count": null,
      "outputs": [
        {
          "output_type": "stream",
          "name": "stdout",
          "text": [
            "['团委', '要求', '开展', '主题', '团日', '看到', '同学', '回复', '收到', '做好', '准备', '复习', '视频', '搞笑', '新学期', '聚餐']\n"
          ]
        }
      ]
    },
    {
      "cell_type": "markdown",
      "source": [
        "## 词图类"
      ],
      "metadata": {
        "id": "b_91YD7pMpp2"
      }
    },
    {
      "cell_type": "markdown",
      "source": [
        "### 基于TextRank算法的关键词提取"
      ],
      "metadata": {
        "id": "yAb9yOxcVjz5"
      }
    },
    {
      "cell_type": "code",
      "source": [
        "key_words = jieba.analyse.textrank(text, topK=10)\n",
        "print(\"关键词：\" + '，'.join(key_words))\n",
        "key_words = jieba.analyse.textrank(new_text, topK=10)\n",
        "print(\"去重后关键词：\" + '，'.join(key_words))"
      ],
      "metadata": {
        "colab": {
          "base_uri": "https://localhost:8080/"
        },
        "id": "uXsBUtzXVrbv",
        "outputId": "1648208f-fc4b-42b8-adcf-81e19f141b9a"
      },
      "execution_count": null,
      "outputs": [
        {
          "output_type": "stream",
          "name": "stdout",
          "text": [
            "关键词：收到，同学，活动，主题，要求，视频，聚餐，看到，团委，搞笑\n",
            "去重后关键词：同学，活动，看到，收到，主题，回复，团日，要求，视频，聚餐\n"
          ]
        }
      ]
    },
    {
      "cell_type": "markdown",
      "source": [
        "### 使用TextRank4ZH库进行关键词、关键词组、关键句提取"
      ],
      "metadata": {
        "id": "73s9THwXYKj0"
      }
    },
    {
      "cell_type": "code",
      "source": [
        "!pip install textrank4zh"
      ],
      "metadata": {
        "colab": {
          "base_uri": "https://localhost:8080/"
        },
        "id": "3vWTkeTnYXma",
        "outputId": "9fa9abb4-a106-4be7-d52c-b905c36dbc32"
      },
      "execution_count": null,
      "outputs": [
        {
          "output_type": "stream",
          "name": "stdout",
          "text": [
            "Looking in indexes: https://pypi.org/simple, https://us-python.pkg.dev/colab-wheels/public/simple/\n",
            "Collecting textrank4zh\n",
            "  Downloading textrank4zh-0.3.zip (13 kB)\n",
            "Requirement already satisfied: jieba>=0.35 in /usr/local/lib/python3.7/dist-packages (from textrank4zh) (0.42.1)\n",
            "Requirement already satisfied: numpy>=1.7.1 in /usr/local/lib/python3.7/dist-packages (from textrank4zh) (1.21.6)\n",
            "Requirement already satisfied: networkx>=1.9.1 in /usr/local/lib/python3.7/dist-packages (from textrank4zh) (2.6.3)\n",
            "Building wheels for collected packages: textrank4zh\n",
            "  Building wheel for textrank4zh (setup.py) ... \u001b[?25l\u001b[?25hdone\n",
            "  Created wheel for textrank4zh: filename=textrank4zh-0.3-py3-none-any.whl size=13422 sha256=28067dd436a67e564cafea5d1bf84c935e794eb633a486fed84bc25f6e527f59\n",
            "  Stored in directory: /root/.cache/pip/wheels/14/4e/2e/a98380a114c215e21b9220d9ebb73cfa2e4094861d5faaf2ca\n",
            "Successfully built textrank4zh\n",
            "Installing collected packages: textrank4zh\n",
            "Successfully installed textrank4zh-0.3\n"
          ]
        }
      ]
    },
    {
      "cell_type": "markdown",
      "source": [
        "#### 提取关键词"
      ],
      "metadata": {
        "id": "Ts_5hWWIZ7NE"
      }
    },
    {
      "cell_type": "code",
      "source": [
        "from textrank4zh import TextRank4Keyword\n",
        "\n",
        "text = \"根据团委要求，我们将在今天下午开展以冬奥会为主题的团日活动，看到的同学请回复。收到。收到。收到。收到。收到。收到。收到。收到。\\\n",
        "此外，我们将在下周进行考试，请各位同学做好准备。好的。收到，会复习的！看这个视频，贼搞笑。哈哈哈哈哈哈哈哈哈哈。确实哈哈哈哈哈哈哈。明天大家一起去吃海底捞吧，新学期聚餐。好呀好呀。好耶！好好好\"\n",
        "tr4w = TextRank4Keyword()\n",
        "tr4w.analyze(text=text, lower=False, window=2)\n",
        "\n",
        "key_words = []\n",
        "for word in tr4w.get_keywords(10, word_min_len=2):\n",
        "  key_words.append(word.word)\n",
        "print(\"关键词：\" + '，'.join(key_words))"
      ],
      "metadata": {
        "colab": {
          "base_uri": "https://localhost:8080/"
        },
        "id": "qywCjSeGZ_p5",
        "outputId": "b8367f95-4ffc-42ef-8310-0d562cd770e2"
      },
      "execution_count": null,
      "outputs": [
        {
          "output_type": "stream",
          "name": "stdout",
          "text": [
            "关键词：新学期，同学，视频，要求，进行，今天下午，做好，考试，开展，冬奥会\n"
          ]
        }
      ]
    },
    {
      "cell_type": "markdown",
      "source": [
        "#### 提取关键词组"
      ],
      "metadata": {
        "id": "itwtthqDdKy1"
      }
    },
    {
      "cell_type": "code",
      "source": [
        "for word in tr4w.get_keyphrases(keywords_num=10, min_occur_num=1):  # 词组在原文中出现的最少次数\n",
        "  print(word)"
      ],
      "metadata": {
        "colab": {
          "base_uri": "https://localhost:8080/"
        },
        "id": "4CfD8rb7dMGi",
        "outputId": "2ea3ac72-8e31-48a2-c585-b0e0e3f50ef3"
      },
      "execution_count": null,
      "outputs": [
        {
          "output_type": "stream",
          "name": "stdout",
          "text": [
            "同学请\n",
            "同学做好\n"
          ]
        }
      ]
    },
    {
      "cell_type": "markdown",
      "source": [
        "效果并不好"
      ],
      "metadata": {
        "id": "n75JFUyheEDs"
      }
    },
    {
      "cell_type": "markdown",
      "source": [
        "#### 提取关键句"
      ],
      "metadata": {
        "id": "D1u1BgaleGg9"
      }
    },
    {
      "cell_type": "code",
      "source": [
        "from textrank4zh import TextRank4Sentence\n",
        "\n",
        "tr4s = TextRank4Sentence()\n",
        "tr4s.analyze(text=text, lower=False, source='all_filters')\n",
        "\n",
        "for sentence in tr4s.get_key_sentences(num=5):\n",
        "  print(sentence.sentence)"
      ],
      "metadata": {
        "colab": {
          "base_uri": "https://localhost:8080/"
        },
        "id": "t1NzWwwUeIUj",
        "outputId": "eedcd52a-7c68-4bef-e52f-c6a8378f828a"
      },
      "execution_count": null,
      "outputs": [
        {
          "output_type": "stream",
          "name": "stdout",
          "text": [
            "收到，会复习的\n",
            "根据团委要求，我们将在今天下午开展以冬奥会为主题的团日活动，看到的同学请回复\n",
            "看这个视频，贼搞笑\n",
            "明天大家一起去吃海底捞吧，新学期聚餐\n",
            "此外，我们将在下周进行考试，请各位同学做好准备\n"
          ]
        }
      ]
    },
    {
      "cell_type": "markdown",
      "source": [
        "## Embedding类"
      ],
      "metadata": {
        "id": "cHFLfAEFM4ih"
      }
    },
    {
      "cell_type": "markdown",
      "source": [
        "### SIFRank\n",
        "https://github.com/yukuotc/SIFRank_zh"
      ],
      "metadata": {
        "id": "lpdi1F9NM-Na"
      }
    },
    {
      "cell_type": "markdown",
      "source": [
        "# 有监督"
      ],
      "metadata": {
        "id": "qKDiz0VGNG2_"
      }
    },
    {
      "cell_type": "markdown",
      "source": [
        "## BERT-KPE\n",
        "但是基于英文\n",
        "\n",
        "https://github.com/thunlp/BERT-KPE"
      ],
      "metadata": {
        "id": "P4oeljYublm1"
      }
    },
    {
      "cell_type": "markdown",
      "source": [
        "## MEDRank\n",
        "最新，实验表现优于SIFRank和BERT-KPE，但是基于英文\n",
        "\n",
        "https://github.com/LinhanZ/mderank"
      ],
      "metadata": {
        "id": "QnscUUPxbV7H"
      }
    }
  ]
}