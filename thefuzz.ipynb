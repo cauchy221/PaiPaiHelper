{
  "nbformat": 4,
  "nbformat_minor": 0,
  "metadata": {
    "colab": {
      "provenance": [],
      "collapsed_sections": [],
      "mount_file_id": "1yZysJgJ5mnNLHFF0WFg7CUQzopMOGKFB",
      "authorship_tag": "ABX9TyPyL1626z4wtabog6DNQQud",
      "include_colab_link": true
    },
    "kernelspec": {
      "name": "python3",
      "display_name": "Python 3"
    },
    "language_info": {
      "name": "python"
    }
  },
  "cells": [
    {
      "cell_type": "markdown",
      "metadata": {
        "id": "view-in-github",
        "colab_type": "text"
      },
      "source": [
        "<a href=\"https://colab.research.google.com/github/cauchy221/PaiPaiHelper/blob/main/thefuzz.ipynb\" target=\"_parent\"><img src=\"https://colab.research.google.com/assets/colab-badge.svg\" alt=\"Open In Colab\"/></a>"
      ]
    },
    {
      "cell_type": "code",
      "execution_count": null,
      "metadata": {
        "colab": {
          "base_uri": "https://localhost:8080/"
        },
        "id": "QsRm2dCQezep",
        "outputId": "bc2fec7e-47ca-45fa-c77b-65cf293d377f"
      },
      "outputs": [
        {
          "output_type": "stream",
          "name": "stdout",
          "text": [
            "Looking in indexes: https://pypi.org/simple, https://us-python.pkg.dev/colab-wheels/public/simple/\n",
            "Collecting thefuzz\n",
            "  Downloading thefuzz-0.19.0-py2.py3-none-any.whl (17 kB)\n",
            "Installing collected packages: thefuzz\n",
            "Successfully installed thefuzz-0.19.0\n"
          ]
        }
      ],
      "source": [
        "!pip install thefuzz"
      ]
    },
    {
      "cell_type": "code",
      "source": [
        "from thefuzz import fuzz\n",
        "\n",
        "print(fuzz.ratio('身份证号：', '身份证件信息：'))  # 可以模糊匹配\n",
        "print(fuzz.ratio('联系方式：', '电话号码：'))    # 建议人工规定词云"
      ],
      "metadata": {
        "colab": {
          "base_uri": "https://localhost:8080/"
        },
        "id": "3r03Oz5Le7oq",
        "outputId": "a4edf222-d299-4974-a592-e2be63ac457d"
      },
      "execution_count": null,
      "outputs": [
        {
          "output_type": "stream",
          "name": "stdout",
          "text": [
            "67\n",
            "20\n"
          ]
        }
      ]
    },
    {
      "cell_type": "code",
      "source": [
        "questions = ['姓名', '性别', '年龄', '身份证信息', '电话']"
      ],
      "metadata": {
        "id": "3L62yQKihnXM"
      },
      "execution_count": null,
      "outputs": []
    },
    {
      "cell_type": "markdown",
      "source": [
        "打开存储用户信息的json文件： `example.json`"
      ],
      "metadata": {
        "id": "b2pMomxxhbVC"
      }
    },
    {
      "cell_type": "code",
      "source": [
        "import json\n",
        "\n",
        "path = '/content/drive/MyDrive/paipai-NLP/example.json'\n",
        "\n",
        "with open(path, \"r\") as f:\n",
        "  data = json.load(f)\n",
        "  print(data)  # dict"
      ],
      "metadata": {
        "colab": {
          "base_uri": "https://localhost:8080/"
        },
        "id": "fuGbIDKahaQ_",
        "outputId": "6eb13eae-51f5-4b1a-8f65-143342f7081c"
      },
      "execution_count": null,
      "outputs": [
        {
          "output_type": "stream",
          "name": "stdout",
          "text": [
            "{'姓名': '小明', '年龄': 18, '性别': '男', '身份证号': '420203199903182233', '联系方式': '13888888888', '电话号码': '13888888888'}\n"
          ]
        }
      ]
    },
    {
      "cell_type": "markdown",
      "source": [
        "对问题进行填空"
      ],
      "metadata": {
        "id": "o58THRjVinMK"
      }
    },
    {
      "cell_type": "code",
      "source": [
        "answers = []\n",
        "\n",
        "for ques in questions:\n",
        "  if ques in data.keys():\n",
        "    answers.append(data[ques])\n",
        "  else:\n",
        "    flag = False\n",
        "    for key in data.keys():\n",
        "      if (fuzz.ratio(ques, key) > 50):\n",
        "        answers.append(data[key])\n",
        "        flag = True\n",
        "        break\n",
        "    if flag == False:\n",
        "      answers.append('null')\n",
        "\n",
        "print(answers)"
      ],
      "metadata": {
        "colab": {
          "base_uri": "https://localhost:8080/"
        },
        "id": "Y73VaTgvip1q",
        "outputId": "24af5465-1d35-4ce2-f054-be36e5282d8e"
      },
      "execution_count": null,
      "outputs": [
        {
          "output_type": "stream",
          "name": "stdout",
          "text": [
            "['小明', '男', 18, '420203199903182233', '13888888888']\n"
          ]
        }
      ]
    }
  ]
}